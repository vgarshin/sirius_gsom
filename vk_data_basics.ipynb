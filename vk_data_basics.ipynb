{
 "cells": [
  {
   "cell_type": "code",
   "execution_count": null,
   "metadata": {},
   "outputs": [],
   "source": [
    "import os\n",
    "import vk_api\n",
    "import requests"
   ]
  },
  {
   "cell_type": "markdown",
   "metadata": {},
   "source": [
    "# Основные параметры"
   ]
  },
  {
   "cell_type": "code",
   "execution_count": null,
   "metadata": {},
   "outputs": [],
   "source": [
    "VER = '5.126'\n",
    "TOKEN = '493da748493da748493da7484b4948ef534493d493da74816fa5183833ae6e9c9bd06f6'\n",
    "URL_SPBU = 'https://vk.com/gsom.spbu'\n",
    "URL_ABTR = 'https://vk.com/gsom_abiturient'"
   ]
  },
  {
   "cell_type": "markdown",
   "metadata": {},
   "source": [
    "# Получение данных по группам VKontakte"
   ]
  },
  {
   "cell_type": "markdown",
   "metadata": {},
   "source": [
    "### Общее описание групп"
   ]
  },
  {
   "cell_type": "code",
   "execution_count": null,
   "metadata": {},
   "outputs": [],
   "source": [
    "groups = 'gsom_abiturient,gsom.spbu'\n",
    "method = 'groups.getById'\n",
    "fields = 'city,country,place,description,members_count'\n",
    "# all fields are here: https://vk.com/dev/objects/group\n",
    "url = ''.join([\n",
    "    f'https://api.vk.com/method/{method}?',\n",
    "    f'group_ids={groups}',\n",
    "    f'&fields={fields}',\n",
    "    f'&access_token={TOKEN}',\n",
    "    f'&v={VER}'\n",
    "])\n",
    "r = requests.get(url)\n",
    "data = r.json()"
   ]
  },
  {
   "cell_type": "code",
   "execution_count": null,
   "metadata": {},
   "outputs": [],
   "source": [
    "for item in data['response']:\n",
    "    print('=' * 70)\n",
    "    print('name:', item['screen_name'], '| id:', item['id'], '| full name:', item['name'], '\\n')\n",
    "    print(item['description'], '\\n')"
   ]
  },
  {
   "cell_type": "markdown",
   "metadata": {},
   "source": [
    "### Записи на стене групп"
   ]
  },
  {
   "cell_type": "code",
   "execution_count": null,
   "metadata": {},
   "outputs": [],
   "source": [
    "owner_id = '23777199'\n",
    "offset = 0\n",
    "count = 5\n",
    "method = 'wall.get'\n",
    "url = ''.join([\n",
    "    f'https://api.vk.com/method/{method}?',\n",
    "    f'owner_id=-{owner_id}',\n",
    "    f'&offset={offset}',\n",
    "    f'&count={count}',\n",
    "    f'&access_token={TOKEN}',\n",
    "    f'&v={VER}'\n",
    "])\n",
    "r = requests.get(url)\n",
    "data = r.json()"
   ]
  },
  {
   "cell_type": "code",
   "execution_count": null,
   "metadata": {},
   "outputs": [],
   "source": [
    "for item in data['response']['items']:\n",
    "    print('=' * 70)\n",
    "    print('id:', item['id'], \n",
    "          '| date:', item['date'], \n",
    "          '\\n', item['text'], '\\n')"
   ]
  },
  {
   "cell_type": "markdown",
   "metadata": {},
   "source": [
    "### Список участников групп"
   ]
  },
  {
   "cell_type": "code",
   "execution_count": null,
   "metadata": {},
   "outputs": [],
   "source": [
    "group_name = 'gsom_abiturient'\n",
    "offset = 0\n",
    "count = 100\n",
    "method = 'groups.getMembers'\n",
    "url = ''.join([\n",
    "    f'https://api.vk.com/method/{method}?',\n",
    "    f'group_id={group_name}',\n",
    "    f'&offset={offset}',\n",
    "    f'&count={count}',\n",
    "    f'&access_token={TOKEN}',\n",
    "    f'&v={VER}'\n",
    "])\n",
    "r = requests.get(url)\n",
    "data = r.json()\n",
    "print(\n",
    "    'group:', group_name,\n",
    "    '| total members:', data['response']['count'], \n",
    "    '| loaded:', len(data['response']['items'])\n",
    ")"
   ]
  },
  {
   "cell_type": "code",
   "execution_count": null,
   "metadata": {},
   "outputs": [],
   "source": [
    "group_name = 'gsom.spbu'\n",
    "method = 'groups.getMembers'\n",
    "url = ''.join([\n",
    "    f'https://api.vk.com/method/{method}?',\n",
    "    f'group_id={group_name}',\n",
    "    f'&offset={offset}',\n",
    "    f'&count={count}',\n",
    "    f'&access_token={TOKEN}',\n",
    "    f'&v={VER}'\n",
    "])\n",
    "r = requests.get(url)\n",
    "data = r.json()\n",
    "print(\n",
    "    'group:', group_name,\n",
    "    '| total members:', data['response']['count'], \n",
    "    '| loaded:', len(data['response']['items'])\n",
    ")"
   ]
  },
  {
   "cell_type": "code",
   "execution_count": null,
   "metadata": {},
   "outputs": [],
   "source": [
    "list_of_members = data['response']['items']"
   ]
  },
  {
   "cell_type": "markdown",
   "metadata": {},
   "source": [
    "# Получение данных по участникам сообществ"
   ]
  },
  {
   "cell_type": "markdown",
   "metadata": {},
   "source": [
    "### Список участников"
   ]
  },
  {
   "cell_type": "code",
   "execution_count": null,
   "metadata": {},
   "outputs": [],
   "source": [
    "group_name = 'gsom.spbu'\n",
    "method = 'users.get'\n",
    "users = ','.join([str(x) for x in list_of_members])\n",
    "fields = 'sex,bdate,city,country,home_town,education,universities,schools,status,last_seen,occupation'\n",
    "# all fields https://vk.com/dev/objects/user\n",
    "url = ''.join([\n",
    "    f'https://api.vk.com/method/{method}?',\n",
    "    f'user_ids={users}',\n",
    "    f'&fields={fields}',\n",
    "    f'&access_token={TOKEN}',\n",
    "    f'&v={VER}'\n",
    "])\n",
    "r = requests.get(url)\n",
    "data = r.json()"
   ]
  },
  {
   "cell_type": "code",
   "execution_count": null,
   "metadata": {},
   "outputs": [],
   "source": [
    "for item in data['response']:\n",
    "    print('-' * 70)\n",
    "    print(\n",
    "        'id:', item['id'],\n",
    "        '\\nfirst name:', item['first_name'], \n",
    "        '\\nlast name:', item['last_name']\n",
    "    )\n",
    "    try:\n",
    "        print(\n",
    "            '\\nbirth date:', item['bdate'], \n",
    "            '\\nhome town:', item['home_town'], \n",
    "            '\\nstatus:', item['status']\n",
    "        )\n",
    "    except:\n",
    "        print('no more data')"
   ]
  },
  {
   "cell_type": "code",
   "execution_count": null,
   "metadata": {},
   "outputs": [],
   "source": [
    "data"
   ]
  },
  {
   "cell_type": "markdown",
   "metadata": {},
   "source": [
    "### Записи на стенах участников"
   ]
  },
  {
   "cell_type": "code",
   "execution_count": null,
   "metadata": {},
   "outputs": [],
   "source": [
    "owner_id = '439'\n",
    "offset = 0\n",
    "count = 20\n",
    "method = 'wall.get'\n",
    "url = ''.join([\n",
    "    f'https://api.vk.com/method/{method}?',\n",
    "    f'owner_id=-{owner_id}',\n",
    "    f'&offset={offset}',\n",
    "    f'&count={count}',\n",
    "    f'&access_token={TOKEN}',\n",
    "    f'&v={VER}'\n",
    "])\n",
    "r = requests.get(url)\n",
    "data = r.json()"
   ]
  },
  {
   "cell_type": "code",
   "execution_count": null,
   "metadata": {},
   "outputs": [],
   "source": [
    "for item in data['response']['items']:\n",
    "    print('=' * 70)\n",
    "    print('id:', item['id'], \n",
    "          '| date:', item['date'], \n",
    "          '\\n', item['text'], '\\n')"
   ]
  },
  {
   "cell_type": "code",
   "execution_count": null,
   "metadata": {},
   "outputs": [],
   "source": []
  }
 ],
 "metadata": {
  "kernelspec": {
   "display_name": "Python 3 + Spark 3",
   "language": "python",
   "name": "lab"
  },
  "language_info": {
   "codemirror_mode": {
    "name": "ipython",
    "version": 3
   },
   "file_extension": ".py",
   "mimetype": "text/x-python",
   "name": "python",
   "nbconvert_exporter": "python",
   "pygments_lexer": "ipython3",
   "version": "3.8.3"
  }
 },
 "nbformat": 4,
 "nbformat_minor": 4
}
